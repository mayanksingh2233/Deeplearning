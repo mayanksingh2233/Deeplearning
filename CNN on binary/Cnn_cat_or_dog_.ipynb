{
  "nbformat": 4,
  "nbformat_minor": 0,
  "metadata": {
    "colab": {
      "name": "Cnn cat or dog .ipynb",
      "provenance": [],
      "collapsed_sections": []
    },
    "kernelspec": {
      "name": "python3",
      "display_name": "Python 3"
    },
    "language_info": {
      "name": "python"
    },
    "accelerator": "GPU"
  },
  "cells": [
    {
      "cell_type": "code",
      "metadata": {
        "colab": {
          "base_uri": "https://localhost:8080/"
        },
        "id": "h4Mpjl5bYb7A",
        "outputId": "87b5d008-353b-4c17-88be-2d24afd1a340"
      },
      "source": [
        "from zipfile import ZipFile\n",
        "filename=\"/content/drive/MyDrive/dataset.zip\"\n",
        "with ZipFile(filename,'r') as zip:\n",
        "  zip.extractall()\n",
        "  print(\"finsih\")"
      ],
      "execution_count": 3,
      "outputs": [
        {
          "output_type": "stream",
          "text": [
            "finsih\n"
          ],
          "name": "stdout"
        }
      ]
    },
    {
      "cell_type": "code",
      "metadata": {
        "id": "D5jwlL7HY-6d"
      },
      "source": [
        "# Importing the Keras libraries and packages\n",
        "from keras.models import Sequential\n",
        "from keras.layers import Dense\n",
        "from keras.layers import Conv2D\n",
        "from keras.layers import MaxPooling2D\n",
        "from keras.layers import Flatten\n"
      ],
      "execution_count": 4,
      "outputs": []
    },
    {
      "cell_type": "code",
      "metadata": {
        "id": "E1v0x4yXZJ7H"
      },
      "source": [
        "# Initialising the CNN\n",
        "model=Sequential()\n",
        "# Step 1 - Convolution\n",
        "model.add(Conv2D(filters=32,kernel_size=(3,3),input_shape=(64,64,3),activation=\"relu\"))\n",
        "# step 2 -Pooling\n",
        "model.add(MaxPooling2D(pool_size=(2,2)))\n",
        "# step 1 -convolution\n",
        "model.add(Conv2D(filters=32,kernel_size=(3,3),activation=\"relu\"))\n",
        "# step 2 - Pooling\n",
        "model.add(MaxPooling2D(pool_size=(2,2)))\n",
        "# step 3 - Flattening\n",
        "model.add(Flatten())\n",
        "# step 4 - full connection\n",
        "model.add(Dense(units=128,activation='relu'))\n",
        "model.add(Dense(units=1,activation='sigmoid'))\n",
        "# compiling the cnn\n",
        "model.compile(optimizer='adam',loss='binary_crossentropy',metrics=['accuracy'])\n"
      ],
      "execution_count": 7,
      "outputs": []
    },
    {
      "cell_type": "code",
      "metadata": {
        "id": "FKFb4Sxt7SGw"
      },
      "source": [
        "from keras.preprocessing.image import ImageDataGenerator"
      ],
      "execution_count": 8,
      "outputs": []
    },
    {
      "cell_type": "code",
      "metadata": {
        "colab": {
          "base_uri": "https://localhost:8080/"
        },
        "id": "IbPaf_bNZT43",
        "outputId": "220c9289-38c1-4dfa-d666-bb927576f665"
      },
      "source": [
        "train_datagen = ImageDataGenerator(\n",
        "        rescale=1./255,\n",
        "        shear_range=0.2,\n",
        "        zoom_range=0.2,\n",
        "        horizontal_flip=True)\n",
        "test_datagen = ImageDataGenerator(rescale=1./255)\n",
        "train_set = train_datagen.flow_from_directory(\n",
        "        '/content/dataset/training_set',\n",
        "        target_size=(64, 64),\n",
        "        batch_size=32,\n",
        "        class_mode='binary')\n",
        "test_set = test_datagen.flow_from_directory(\n",
        "        '/content/dataset/test_set',\n",
        "        target_size=(64, 64),\n",
        "        batch_size=32,\n",
        "        class_mode='binary')\n",
        "model.fit(\n",
        "        train_set,\n",
        "        steps_per_epoch=int(7000/32),\n",
        "        epochs=5,\n",
        "        validation_data=test_set,\n",
        "        validation_steps=2000/32)"
      ],
      "execution_count": 9,
      "outputs": [
        {
          "output_type": "stream",
          "text": [
            "Found 8000 images belonging to 2 classes.\n",
            "Found 2000 images belonging to 2 classes.\n",
            "Epoch 1/5\n",
            "218/218 [==============================] - 62s 146ms/step - loss: 0.7008 - accuracy: 0.5099 - val_loss: 0.6527 - val_accuracy: 0.6145\n",
            "Epoch 2/5\n",
            "218/218 [==============================] - 32s 145ms/step - loss: 0.6513 - accuracy: 0.6213 - val_loss: 0.6452 - val_accuracy: 0.6150\n",
            "Epoch 3/5\n",
            "218/218 [==============================] - 31s 144ms/step - loss: 0.6312 - accuracy: 0.6473 - val_loss: 0.6209 - val_accuracy: 0.6685\n",
            "Epoch 4/5\n",
            "218/218 [==============================] - 32s 145ms/step - loss: 0.5879 - accuracy: 0.6826 - val_loss: 0.5555 - val_accuracy: 0.7160\n",
            "Epoch 5/5\n",
            "218/218 [==============================] - 32s 147ms/step - loss: 0.5511 - accuracy: 0.7152 - val_loss: 0.5576 - val_accuracy: 0.7210\n"
          ],
          "name": "stdout"
        },
        {
          "output_type": "execute_result",
          "data": {
            "text/plain": [
              "<tensorflow.python.keras.callbacks.History at 0x7fbc601ea110>"
            ]
          },
          "metadata": {
            "tags": []
          },
          "execution_count": 9
        }
      ]
    },
    {
      "cell_type": "code",
      "metadata": {
        "id": "7FDgs7JeZbrj"
      },
      "source": [
        "from keras.preprocessing import image\n",
        "import numpy as np\n"
      ],
      "execution_count": 12,
      "outputs": []
    },
    {
      "cell_type": "code",
      "metadata": {
        "colab": {
          "base_uri": "https://localhost:8080/"
        },
        "id": "IUzuy2sx8cgx",
        "outputId": "cca75b42-c0ef-4b64-f6c9-c4befd0aa588"
      },
      "source": [
        "test_image=image.load_img('/content/dataset/single_prediction/cat_or_dog_1.jpg',target_size=(64,64))\n",
        "test_image=image.img_to_array(test_image)\n",
        "test_image=np.expand_dims(test_image,axis=0)\n",
        "result=model.predict(test_image)\n",
        "train_set.class_indices\n",
        "if result[0][0]==1:\n",
        "  print(\"dog\")\n",
        "else:\n",
        "  print(\"cat\")"
      ],
      "execution_count": 13,
      "outputs": [
        {
          "output_type": "stream",
          "text": [
            "dog\n"
          ],
          "name": "stdout"
        }
      ]
    },
    {
      "cell_type": "code",
      "metadata": {
        "id": "jUhl5XQX9ifj"
      },
      "source": [
        ""
      ],
      "execution_count": null,
      "outputs": []
    }
  ]
}