{
  "nbformat": 4,
  "nbformat_minor": 0,
  "metadata": {
    "colab": {
      "name": "Mniset.ipynb",
      "provenance": [],
      "collapsed_sections": []
    },
    "kernelspec": {
      "name": "python3",
      "display_name": "Python 3"
    },
    "accelerator": "GPU"
  },
  "cells": [
    {
      "cell_type": "code",
      "metadata": {
        "id": "yvM_3x7YHOxB",
        "colab_type": "code",
        "colab": {}
      },
      "source": [
        "# mnist (benchmark) dataset\n",
        "\n",
        "# It is a dataset of handwritten images\n",
        "\n",
        "# http://yann.lecun.com/exdb/mnist/\n",
        "\n",
        "\n",
        "# The MNIST database of handwritten digits, available from this page, has a training set of 60,000 examples, \n",
        "# and a test set of 10,000 examples. It is a subset of a larger set available from NIST. The digits have been\n",
        "# size-normalized and centered in a fixed-size image.\n",
        "\n",
        "# It is a good database for people who want to try learning techniques and pattern recognition methods on real-world \n",
        "# data while spending minimal efforts on preprocessing and formatting.'''\n"
      ],
      "execution_count": 0,
      "outputs": []
    },
    {
      "cell_type": "code",
      "metadata": {
        "id": "WE9YhKwAJCqd",
        "colab_type": "code",
        "colab": {}
      },
      "source": [
        "!pip install keras"
      ],
      "execution_count": 0,
      "outputs": []
    },
    {
      "cell_type": "code",
      "metadata": {
        "id": "FZnxeVgKHj-X",
        "colab_type": "code",
        "colab": {}
      },
      "source": [
        "import numpy as np \n",
        "import keras  \n",
        "from keras.datasets import mnist \n",
        "from keras.models import Model \n",
        "from keras.layers import Dense, Input\n",
        "from keras.layers import Conv2D, MaxPooling2D, Dropout, Flatten \n",
        "from keras import backend as k "
      ],
      "execution_count": 0,
      "outputs": []
    },
    {
      "cell_type": "code",
      "metadata": {
        "id": "UukaOxZeHT2p",
        "colab_type": "code",
        "colab": {}
      },
      "source": [
        "(x_train, y_train), (x_test, y_test) = mnist.load_data() "
      ],
      "execution_count": 0,
      "outputs": []
    },
    {
      "cell_type": "code",
      "metadata": {
        "id": "TtssWn98J0nC",
        "colab_type": "code",
        "colab": {}
      },
      "source": [
        "# Display the dataset\n",
        "from matplotlib import pyplot\n",
        "print('Train: X=%s, y=%s' % (x_train.shape, y_train.shape))\n",
        "print('Test: X=%s, y=%s' % (x_test.shape, y_test.shape))\n",
        "# plot first few images\n",
        "for i in range(9):\n",
        "\t# define subplot\n",
        "\tpyplot.subplot(330 + 1 + i)\n",
        "\t# plot raw pixel data\n",
        "\tpyplot.imshow(x_train[i], cmap=pyplot.get_cmap('gray'))\n",
        "# show the figure\n",
        "pyplot.show()"
      ],
      "execution_count": 0,
      "outputs": []
    },
    {
      "cell_type": "code",
      "metadata": {
        "id": "E5t_8JEl49zT",
        "colab_type": "code",
        "colab": {}
      },
      "source": [
        ""
      ],
      "execution_count": 0,
      "outputs": []
    },
    {
      "cell_type": "code",
      "metadata": {
        "id": "CWv81nl6IMns",
        "colab_type": "code",
        "colab": {}
      },
      "source": [
        "img_rows, img_cols=28, 28\n",
        "  \n",
        "if k.image_data_format() == 'channels_first': \n",
        "  #reshape dataset to have a single channel\n",
        "   x_train = x_train.reshape(x_train.shape[0], 1, img_rows, img_cols) \n",
        "   x_test = x_test.reshape(x_test.shape[0], 1, img_rows, img_cols) \n",
        "   inpx = (1, img_rows, img_cols) \n",
        "else:\n",
        "  #reshape dataset to have a single channel\n",
        "   x_train = x_train.reshape(x_train.shape[0], img_rows, img_cols, 1) \n",
        "   x_test = x_test.reshape(x_test.shape[0], img_rows, img_cols, 1) \n",
        "   inpx = (img_rows, img_cols, 1)"
      ],
      "execution_count": 0,
      "outputs": []
    },
    {
      "cell_type": "code",
      "metadata": {
        "id": "4u5hlLCQ5Cfh",
        "colab_type": "code",
        "colab": {}
      },
      "source": [
        "#convert from integers to floats\n",
        "x_train = x_train.astype('float32') \n",
        "x_test = x_test.astype('float32') \n",
        "\n",
        "# Nor. 0 to 1\n",
        "x_train /= 255\n",
        "x_test /= 255"
      ],
      "execution_count": 0,
      "outputs": []
    },
    {
      "cell_type": "code",
      "metadata": {
        "id": "iMmSKO7UIOf0",
        "colab_type": "code",
        "colab": {}
      },
      "source": [
        "# convert class vectors to binary class matrices  OR one hot encode target values\n",
        "y_train = keras.utils.to_categorical(y_train) \n",
        "y_test = keras.utils.to_categorical(y_test) "
      ],
      "execution_count": 0,
      "outputs": []
    },
    {
      "cell_type": "code",
      "metadata": {
        "id": "SNpMufw-IQRE",
        "colab_type": "code",
        "colab": {}
      },
      "source": [
        "inpx = Input(shape=inpx) \n",
        "layer1 = Conv2D(32, kernel_size=(3, 3), activation='relu')(inpx) \n",
        "layer2 = Conv2D(64, (3, 3), activation='relu')(layer1) \n",
        "layer3 = MaxPooling2D(pool_size=(3, 3))(layer2) \n",
        "# To prevent overfitting \n",
        "layer4 = Dropout(0.5)(layer3)\n",
        " \n",
        "layer5 = Flatten()(layer4) \n",
        "layer6 = Dense(250, activation='sigmoid')(layer5) \n",
        "layer7 = Dense(10, activation='softmax')(layer6) "
      ],
      "execution_count": 0,
      "outputs": []
    },
    {
      "cell_type": "code",
      "metadata": {
        "id": "-CbolaPiIR7E",
        "colab_type": "code",
        "colab": {}
      },
      "source": [
        "model = Model([inpx], layer7) \n",
        "model.compile(optimizer=keras.optimizers.Adadelta(), \n",
        "              loss=keras.losses.categorical_crossentropy, \n",
        "              metrics=['accuracy'])\n",
        "\n",
        "model.fit(x_train, y_train, epochs=12, batch_size=500) "
      ],
      "execution_count": 0,
      "outputs": []
    },
    {
      "cell_type": "code",
      "metadata": {
        "id": "tweY5aDoIUhU",
        "colab_type": "code",
        "colab": {}
      },
      "source": [
        "score = model.evaluate(x_test, y_test, verbose=0) \n",
        "print('loss=', score[0]) \n",
        "print('accuracy=', score[1])\n"
      ],
      "execution_count": 0,
      "outputs": []
    },
    {
      "cell_type": "code",
      "metadata": {
        "id": "bk81VxpEIhUD",
        "colab_type": "code",
        "colab": {}
      },
      "source": [
        "#sinle Value predication in number\n",
        "predictions = model.predict(x_test)\n",
        "print(np.argmax(np.round(predictions[2])))\n"
      ],
      "execution_count": 0,
      "outputs": []
    },
    {
      "cell_type": "code",
      "metadata": {
        "id": "gis9DX7yLQce",
        "colab_type": "code",
        "colab": {}
      },
      "source": [
        "#sinle Value predication in graph (plot)\n",
        "import matplotlib.pyplot as plt\n",
        "plt.imshow(x_test[2].reshape(28, 28), cmap = plt.cm.binary)\n",
        "plt.show()\n"
      ],
      "execution_count": 0,
      "outputs": []
    },
    {
      "cell_type": "code",
      "metadata": {
        "id": "wZJPq0hoFl-4",
        "colab_type": "code",
        "colab": {}
      },
      "source": [
        "-------------End----------------"
      ],
      "execution_count": 0,
      "outputs": []
    },
    {
      "cell_type": "code",
      "metadata": {
        "id": "iFzNmFYeFmSu",
        "colab_type": "code",
        "colab": {}
      },
      "source": [
        ""
      ],
      "execution_count": 0,
      "outputs": []
    },
    {
      "cell_type": "code",
      "metadata": {
        "id": "0VABIlaLFmju",
        "colab_type": "code",
        "colab": {}
      },
      "source": [
        ""
      ],
      "execution_count": 0,
      "outputs": []
    },
    {
      "cell_type": "code",
      "metadata": {
        "id": "udPQ4Ch3LQjN",
        "colab_type": "code",
        "colab": {}
      },
      "source": [
        "# Fashion-MNIST is a dataset of Zalando's article images consisting of a training set of 60,000 examples and a test set of 10,000 examples. \n",
        "# Each example is a 28x28 grayscale image, associated with a label from 10 classes.\n",
        "\n",
        "\n",
        "'''Labels\n",
        "\n",
        "Each training and test example is assigned to one of the following labels:\n",
        "\n",
        "0 T-shirt/top\n",
        "1 Trouser\n",
        "2 Pullover\n",
        "3 Dress\n",
        "4 Coat\n",
        "5 Sandal\n",
        "6 Shirt\n",
        "7 Sneaker\n",
        "8 Bag\n",
        "9 Ankle boot '''\n",
        "\n",
        "# for further assistance https://www.kaggle.com/zalando-research/fashionmnist\n"
      ],
      "execution_count": 0,
      "outputs": []
    },
    {
      "cell_type": "code",
      "metadata": {
        "id": "e0ztU2jQLQo8",
        "colab_type": "code",
        "colab": {}
      },
      "source": [
        "import keras\n",
        "from keras.datasets import fashion_mnist \n",
        "from keras.layers import Dense, Activation, Flatten, Conv2D, MaxPooling2D\n",
        "from keras.models import Sequential\n",
        "from keras.utils import to_categorical\n",
        "import numpy as np\n",
        "import matplotlib.pyplot as plt\n",
        "\n",
        "(train_X,train_Y), (test_X,test_Y) = fashion_mnist.load_data()"
      ],
      "execution_count": 0,
      "outputs": []
    },
    {
      "cell_type": "code",
      "metadata": {
        "id": "fghaV16I2U7n",
        "colab_type": "code",
        "colab": {}
      },
      "source": [
        "# example of loading the fashion mnist dataset\n",
        "from matplotlib import pyplot\n",
        "from keras.datasets import fashion_mnist\n",
        "# load dataset\n",
        "(trainX, trainy), (testX, testy) = fashion_mnist.load_data()\n",
        "# summarize loaded dataset\n",
        "print('Train: X=%s, y=%s' % (trainX.shape, trainy.shape))\n",
        "print('Test: X=%s, y=%s' % (testX.shape, testy.shape))\n",
        "# plot first few images\n",
        "for i in range(9):\n",
        "\t# define subplot\n",
        "\tpyplot.subplot(330 + 1 + i)\n",
        "\t# plot raw pixel data\n",
        "\tpyplot.imshow(trainX[i], cmap=pyplot.get_cmap('gray'))\n",
        "# show the figure\n",
        "pyplot.show()"
      ],
      "execution_count": 0,
      "outputs": []
    },
    {
      "cell_type": "code",
      "metadata": {
        "id": "Cc7j9XWf2VMV",
        "colab_type": "code",
        "colab": {}
      },
      "source": [
        "# reshape dataset to have a single channel\n",
        "train_X = train_X.reshape(-1, 28,28, 1)\n",
        "test_X = test_X.reshape(-1, 28,28, 1)\n",
        "\n",
        "##convert from integers to floats\n",
        "train_X = train_X.astype('float32')\n",
        "test_X = test_X.astype('float32')\n",
        "\n",
        "#Nor. 0 to 1\n",
        "train_X = train_X / 255\n",
        "test_X = test_X / 255\n",
        "\n",
        "# convert to one hot encoder (vector)\n",
        "train_Y_one_hot = to_categorical(train_Y)\n",
        "test_Y_one_hot = to_categorical(test_Y)\n"
      ],
      "execution_count": 0,
      "outputs": []
    },
    {
      "cell_type": "code",
      "metadata": {
        "id": "z2QfDgkg2Vat",
        "colab_type": "code",
        "colab": {}
      },
      "source": [
        "\n",
        "model = Sequential()\n",
        "\n",
        "model.add(Conv2D(64, (3,3), input_shape=(28, 28, 1)))\n",
        "model.add(Activation('relu'))\n",
        "model.add(MaxPooling2D(pool_size=(2,2)))\n",
        "\n",
        "model.add(Conv2D(64, (3,3)))\n",
        "model.add(Activation('relu'))\n",
        "model.add(MaxPooling2D(pool_size=(2,2)))\n",
        "\n",
        "model.add(Flatten())\n",
        "model.add(Dense(64))\n",
        "\n",
        "model.add(Dense(10))\n",
        "model.add(Activation('softmax'))\n",
        "\n",
        "model.compile(loss=keras.losses.categorical_crossentropy, optimizer=keras.optimizers.Adam(),metrics=['accuracy'])\n"
      ],
      "execution_count": 0,
      "outputs": []
    },
    {
      "cell_type": "code",
      "metadata": {
        "id": "NduAqE7OLRhc",
        "colab_type": "code",
        "colab": {}
      },
      "source": [
        "model.fit(train_X, train_Y_one_hot, batch_size=64, epochs=5)"
      ],
      "execution_count": 0,
      "outputs": []
    },
    {
      "cell_type": "code",
      "metadata": {
        "id": "LDmH7hwhL0p3",
        "colab_type": "code",
        "colab": {}
      },
      "source": [
        "test_loss, test_acc = model.evaluate(test_X, test_Y_one_hot)\n",
        "print('Test loss', test_loss)\n",
        "print('Test accuracy', test_acc)\n",
        "\n"
      ],
      "execution_count": 0,
      "outputs": []
    },
    {
      "cell_type": "code",
      "metadata": {
        "id": "kEmTaidB8byl",
        "colab_type": "code",
        "colab": {}
      },
      "source": [
        "#sinle Value predication in number (category)\n",
        "predictions = model.predict(test_X)\n",
        "print(np.argmax(np.round(predictions[1])))"
      ],
      "execution_count": 0,
      "outputs": []
    },
    {
      "cell_type": "code",
      "metadata": {
        "id": "QGUpLrvp8gtp",
        "colab_type": "code",
        "colab": {}
      },
      "source": [
        "#sinle Value predication in graph (plot)\n",
        "plt.imshow(test_X[1].reshape(28, 28), cmap = plt.cm.binary)\n",
        "plt.show()"
      ],
      "execution_count": 0,
      "outputs": []
    },
    {
      "cell_type": "code",
      "metadata": {
        "id": "lKfISKLN8hyZ",
        "colab_type": "code",
        "colab": {}
      },
      "source": [
        ""
      ],
      "execution_count": 0,
      "outputs": []
    }
  ]
}