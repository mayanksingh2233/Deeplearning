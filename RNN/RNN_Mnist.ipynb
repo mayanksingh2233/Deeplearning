{
  "nbformat": 4,
  "nbformat_minor": 0,
  "metadata": {
    "colab": {
      "name": "RNN_Mnist.ipynb",
      "provenance": [],
      "collapsed_sections": []
    },
    "kernelspec": {
      "name": "python3",
      "display_name": "Python 3"
    },
    "accelerator": "GPU"
  },
  "cells": [
    {
      "cell_type": "code",
      "metadata": {
        "id": "nHyXwOMBzXJ3",
        "colab_type": "code",
        "colab": {}
      },
      "source": [
        "from __future__ import print_function\n",
        "\n",
        "import keras\n",
        "from keras.datasets import mnist\n",
        "from keras.models import Model\n",
        "from keras.layers import Input, Dense, TimeDistributed\n",
        "from keras.layers import LSTM\n"
      ],
      "execution_count": 0,
      "outputs": []
    },
    {
      "cell_type": "code",
      "metadata": {
        "id": "PGbjv44gfhRT",
        "colab_type": "code",
        "colab": {}
      },
      "source": [
        "# Training parameters.\n",
        "batch_size = 32\n",
        "num_classes = 10\n",
        "epochs = 5"
      ],
      "execution_count": 0,
      "outputs": []
    },
    {
      "cell_type": "code",
      "metadata": {
        "id": "votjZrTzfkLw",
        "colab_type": "code",
        "colab": {}
      },
      "source": [
        "# Embedding dimensions.\n",
        "row_hidden = 128\n",
        "col_hidden = 128"
      ],
      "execution_count": 0,
      "outputs": []
    },
    {
      "cell_type": "code",
      "metadata": {
        "id": "Fnow15hjfmeI",
        "colab_type": "code",
        "colab": {}
      },
      "source": [
        "\n",
        "# The data, split between train and test sets.\n",
        "(x_train, y_train), (x_test, y_test) = mnist.load_data()"
      ],
      "execution_count": 0,
      "outputs": []
    },
    {
      "cell_type": "code",
      "metadata": {
        "id": "3z-9lgDZfnuw",
        "colab_type": "code",
        "colab": {}
      },
      "source": [
        "# Reshapes data to 4D for Hierarchical RNN.\n",
        "\n",
        "# HRNNs can learn across multiple levels of temporal hierarchy over a complex sequence. Usually, the first recurrent layer of an HRNN encodes a sentence\n",
        "# (e.g. of word vectors) into a sentence vector. The second recurrent layer then encodes a sequence of such vectors (encoded by the first layer) into a \n",
        "# document vector. This document vector is considered to preserve both the word-level and sentence-level structure of the context.\n",
        " \n",
        "x_train = x_train.reshape(x_train.shape[0], 28, 28, 1)\n",
        "x_test = x_test.reshape(x_test.shape[0], 28, 28, 1)\n",
        "x_train = x_train.astype('float32')\n",
        "x_test = x_test.astype('float32')\n",
        "x_train /= 255\n",
        "x_test /= 255\n",
        "print('x_train shape:', x_train.shape)\n",
        "print(x_train.shape[0], 'train samples')\n",
        "print(x_test.shape[0], 'test samples')"
      ],
      "execution_count": 0,
      "outputs": []
    },
    {
      "cell_type": "code",
      "metadata": {
        "id": "qhWVV5pRzaki",
        "colab_type": "code",
        "colab": {}
      },
      "source": [
        "\n",
        "# Converts class vectors to binary class matrices.\n",
        "y_train = keras.utils.to_categorical(y_train, num_classes)\n",
        "y_test = keras.utils.to_categorical(y_test, num_classes)\n",
        "\n",
        "row, col, pixel = x_train.shape[1:]\n",
        "\n",
        "# 4D input.\n",
        "x = Input(shape=(row, col, pixel))\n",
        "\n",
        "\n"
      ],
      "execution_count": 0,
      "outputs": []
    },
    {
      "cell_type": "code",
      "metadata": {
        "id": "T-0vGVhvfqcZ",
        "colab_type": "code",
        "colab": {}
      },
      "source": [
        "# Encodes a row of pixels using TimeDistributed Wrapper.\n",
        "# TimeDistributed. This wrapper applies a layer to every temporal slice of an input. The input should be at least 3D, and the dimension of index one will be \n",
        "# considered to be the temporal dimension. Consider a batch of 32 samples, where each sample is a sequence of 10 vectors of 16 dimensions\n",
        "\n",
        "encoded_rows = TimeDistributed(LSTM(row_hidden))(x)\n",
        "\n",
        "# Encodes columns of encoded rows.\n",
        "encoded_columns = LSTM(col_hidden)(encoded_rows)\n",
        "\n",
        "\n"
      ],
      "execution_count": 0,
      "outputs": []
    },
    {
      "cell_type": "code",
      "metadata": {
        "id": "EUcRn6KcfsYZ",
        "colab_type": "code",
        "colab": {}
      },
      "source": [
        "# Final predictions and model.\n",
        "prediction = Dense(num_classes, activation='softmax')(encoded_columns)\n",
        "model = Model(x, prediction)\n",
        "model.compile(loss='categorical_crossentropy',\n",
        "              optimizer='rmsprop',\n",
        "              metrics=['accuracy'])"
      ],
      "execution_count": 0,
      "outputs": []
    },
    {
      "cell_type": "code",
      "metadata": {
        "id": "-0L5GgPLz5XE",
        "colab_type": "code",
        "colab": {}
      },
      "source": [
        "# Training.\n",
        "model.fit(x_train, y_train,\n",
        "          batch_size=batch_size,\n",
        "          epochs=epochs,\n",
        "          verbose=1,\n",
        "          validation_data=(x_test, y_test))\n",
        "\n"
      ],
      "execution_count": 0,
      "outputs": []
    },
    {
      "cell_type": "code",
      "metadata": {
        "id": "acRxEwxuz7wQ",
        "colab_type": "code",
        "colab": {}
      },
      "source": [
        "# Evaluation.\n",
        "scores = model.evaluate(x_test, y_test, verbose=0)\n",
        "print('Test loss:', scores[0])\n",
        "print('Test accuracy:', scores[1])"
      ],
      "execution_count": 0,
      "outputs": []
    },
    {
      "cell_type": "code",
      "metadata": {
        "id": "uSrmbiqg3cBs",
        "colab_type": "code",
        "colab": {}
      },
      "source": [
        ""
      ],
      "execution_count": 0,
      "outputs": []
    }
  ]
}